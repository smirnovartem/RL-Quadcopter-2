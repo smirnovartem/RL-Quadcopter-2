{
 "cells": [
  {
   "cell_type": "code",
   "execution_count": null,
   "metadata": {
    "collapsed": true
   },
   "outputs": [],
   "source": [
    "# Project: Train a Quadcopter How to Fly\n",
    "\n",
    "Design an agent to fly a quadcopter, and then train it using a reinforcement learning algorithm of your choice! \n",
    "\n",
    "Try to apply the techniques you have learnt, but also feel free to come up with innovative ideas and test them."
   ]
  },
  {
   "cell_type": "markdown",
   "metadata": {},
   "source": [
    "## Instructions\n",
    "\n",
    "Take a look at the files in the directory to better understand the structure of the project. \n",
    "\n",
    "- `task.py`: Define your task (environment) in this file.\n",
    "- `agents/`: Folder containing reinforcement learning agents.\n",
    "    - `policy_search.py`: A sample agent has been provided here.\n",
    "    - `agent.py`: Develop your agent here.\n",
    "- `physics_sim.py`: This file contains the simulator for the quadcopter.  **DO NOT MODIFY THIS FILE**.\n",
    "\n",
    "For this project, you will define your own task in `task.py`.  Although we have provided a example task to get you started, you are encouraged to change it.  Later in this notebook, you will learn more about how to amend this file.\n",
    "\n",
    "You will also design a reinforcement learning agent in `agent.py` to complete your chosen task.  \n",
    "\n",
    "You are welcome to create any additional files to help you to organize your code.  For instance, you may find it useful to define a `model.py` file defining any needed neural network architectures.\n",
    "\n",
    "## Controlling the Quadcopter\n",
    "\n",
    "We provide a sample agent in the code cell below to show you how to use the sim to control the quadcopter.  This agent is even simpler than the sample agent that you'll examine (in `agents/policy_search.py`) later in this notebook!\n",
    "\n",
    "The agent controls the quadcopter by setting the revolutions per second on each of its four rotors.  The provided agent in the `Basic_Agent` class below always selects a random action for each of the four rotors.  These four speeds are returned by the `act` method as a list of four floating-point numbers.  \n",
    "\n",
    "For this project, the agent that you will implement in `agents/agent.py` will have a far more intelligent method for selecting actions!"
   ]
  },
  {
   "cell_type": "code",
   "execution_count": 1,
   "metadata": {
    "collapsed": true
   },
   "outputs": [],
   "source": [
    "import random\n",
    "\n",
    "class Basic_Agent():\n",
    "    def __init__(self, task):\n",
    "        self.task = task\n",
    "    \n",
    "    def act(self):\n",
    "        new_thrust = random.gauss(450., 25.)\n",
    "        return [new_thrust + random.gauss(0., 1.) for x in range(4)]"
   ]
  },
  {
   "cell_type": "markdown",
   "metadata": {},
   "source": [
    "Run the code cell below to have the agent select actions to control the quadcopter.  \n",
    "\n",
    "Feel free to change the provided values of `runtime`, `init_pose`, `init_velocities`, and `init_angle_velocities` below to change the starting conditions of the quadcopter.\n",
    "\n",
    "The `labels` list below annotates statistics that are saved while running the simulation.  All of this information is saved in a text file `data.txt` and stored in the dictionary `results`.  "
   ]
  },
  {
   "cell_type": "code",
   "execution_count": 2,
   "metadata": {
    "collapsed": true
   },
   "outputs": [],
   "source": [
    "%load_ext autoreload\n",
    "%autoreload 2\n",
    "\n",
    "import csv\n",
    "import numpy as np\n",
    "from task import Task\n",
    "\n",
    "# Modify the values below to give the quadcopter a different starting position.\n",
    "runtime = 5.                                     # time limit of the episode\n",
    "init_pose = np.array([0., 0., 10., 0., 0., 0.])  # initial pose\n",
    "init_velocities = np.array([0., 0., 0.])         # initial velocities\n",
    "init_angle_velocities = np.array([0., 0., 0.])   # initial angle velocities\n",
    "file_output = 'data.txt'                         # file name for saved results\n",
    "\n",
    "# Setup\n",
    "task = Task(init_pose, init_velocities, init_angle_velocities, runtime)\n",
    "agent = Basic_Agent(task)\n",
    "done = False\n",
    "labels = ['time', 'x', 'y', 'z', 'phi', 'theta', 'psi', 'x_velocity',\n",
    "          'y_velocity', 'z_velocity', 'phi_velocity', 'theta_velocity',\n",
    "          'psi_velocity', 'rotor_speed1', 'rotor_speed2', 'rotor_speed3', 'rotor_speed4']\n",
    "results = {x : [] for x in labels}\n",
    "\n",
    "# Run the simulation, and save the results.\n",
    "with open(file_output, 'w') as csvfile:\n",
    "    writer = csv.writer(csvfile)\n",
    "    writer.writerow(labels)\n",
    "    while True:\n",
    "        rotor_speeds = agent.act()\n",
    "        _, _, done = task.step(rotor_speeds)\n",
    "        to_write = [task.sim.time] + list(task.sim.pose) + list(task.sim.v) + list(task.sim.angular_v) + list(rotor_speeds)\n",
    "        for ii in range(len(labels)):\n",
    "            results[labels[ii]].append(to_write[ii])\n",
    "        writer.writerow(to_write)\n",
    "        if done:\n",
    "            break"
   ]
  },
  {
   "cell_type": "markdown",
   "metadata": {},
   "source": [
    "Run the code cell below to visualize how the position of the quadcopter evolved during the simulation."
   ]
  },
  {
   "cell_type": "code",
   "execution_count": 3,
   "metadata": {},
   "outputs": [
    {
     "data": {
      "image/png": "[encoded data removed]",
      "text/plain": [
       "<matplotlib.figure.Figure at 0x239e9ed7c50>"
      ]
     },
     "metadata": {},
     "output_type": "display_data"
    }
   ],
   "source": [
    "import matplotlib.pyplot as plt\n",
    "%matplotlib inline\n",
    "\n",
    "plt.plot(results['time'], results['x'], label='x')\n",
    "plt.plot(results['time'], results['y'], label='y')\n",
    "plt.plot(results['time'], results['z'], label='z')\n",
    "plt.legend()\n",
    "_ = plt.ylim()"
   ]
  },
  {
   "cell_type": "markdown",
   "metadata": {},
   "source": [
    "The next code cell visualizes the velocity of the quadcopter."
   ]
  },
  {
   "cell_type": "code",
   "execution_count": 4,
   "metadata": {},
   "outputs": [
    {
     "data": {
      "image/png": "[encoded data removed]",
      "text/plain": [
       "<matplotlib.figure.Figure at 0x239e8f63780>"
      ]
     },
     "metadata": {},
     "output_type": "display_data"
    }
   ],
   "source": [
    "plt.plot(results['time'], results['x_velocity'], label='x_hat')\n",
    "plt.plot(results['time'], results['y_velocity'], label='y_hat')\n",
    "plt.plot(results['time'], results['z_velocity'], label='z_hat')\n",
    "plt.legend()\n",
    "_ = plt.ylim()"
   ]
  },
  {
   "cell_type": "markdown",
   "metadata": {},
   "source": [
    "Next, you can plot the Euler angles (the rotation of the quadcopter over the $x$-, $y$-, and $z$-axes),"
   ]
  },
  {
   "cell_type": "code",
   "execution_count": 5,
   "metadata": {},
   "outputs": [
    {
     "data": {
      "image/png": "[encoded data removed]",
      "text/plain": [
       "<matplotlib.figure.Figure at 0x239ea49f8d0>"
      ]
     },
     "metadata": {},
     "output_type": "display_data"
    }
   ],
   "source": [
    "plt.plot(results['time'], results['phi'], label='phi')\n",
    "plt.plot(results['time'], results['theta'], label='theta')\n",
    "plt.plot(results['time'], results['psi'], label='psi')\n",
    "plt.legend()\n",
    "_ = plt.ylim()"
   ]
  },
  {
   "cell_type": "markdown",
   "metadata": {},
   "source": [
    "before plotting the velocities (in radians per second) corresponding to each of the Euler angles."
   ]
  },
  {
   "cell_type": "code",
   "execution_count": 6,
   "metadata": {},
   "outputs": [
    {
     "data": {
      "image/png": "[encoded data removed]",
      "text/plain": [
       "<matplotlib.figure.Figure at 0x239ea570d68>"
      ]
     },
     "metadata": {},
     "output_type": "display_data"
    }
   ],
   "source": [
    "plt.plot(results['time'], results['phi_velocity'], label='phi_velocity')\n",
    "plt.plot(results['time'], results['theta_velocity'], label='theta_velocity')\n",
    "plt.plot(results['time'], results['psi_velocity'], label='psi_velocity')\n",
    "plt.legend()\n",
    "_ = plt.ylim()"
   ]
  },
  {
   "cell_type": "markdown",
   "metadata": {},
   "source": [
    "Finally, you can use the code cell below to print the agent's choice of actions.  "
   ]
  },
  {
   "cell_type": "code",
   "execution_count": 7,
   "metadata": {},
   "outputs": [
    {
     "data": {
      "image/png": "[encoded data removed]",
      "text/plain": [
       "<matplotlib.figure.Figure at 0x239e8f4ec50>"
      ]
     },
     "metadata": {},
     "output_type": "display_data"
    }
   ],
   "source": [
    "plt.plot(results['time'], results['rotor_speed1'], label='Rotor 1 revolutions / second')\n",
    "plt.plot(results['time'], results['rotor_speed2'], label='Rotor 2 revolutions / second')\n",
    "plt.plot(results['time'], results['rotor_speed3'], label='Rotor 3 revolutions / second')\n",
    "plt.plot(results['time'], results['rotor_speed4'], label='Rotor 4 revolutions / second')\n",
    "plt.legend()\n",
    "_ = plt.ylim()"
   ]
  },
  {
   "cell_type": "markdown",
   "metadata": {},
   "source": [
    "When specifying a task, you will derive the environment state from the simulator.  Run the code cell below to print the values of the following variables at the end of the simulation:\n",
    "- `task.sim.pose` (the position of the quadcopter in ($x,y,z$) dimensions and the Euler angles),\n",
    "- `task.sim.v` (the velocity of the quadcopter in ($x,y,z$) dimensions), and\n",
    "- `task.sim.angular_v` (radians/second for each of the three Euler angles)."
   ]
  },
  {
   "cell_type": "code",
   "execution_count": 8,
   "metadata": {},
   "outputs": [
    {
     "name": "stdout",
     "output_type": "stream",
     "text": [
      "[  5.38438861e-08  -7.84454583e-08   1.00055075e+01   6.28306869e+00\n",
      "   6.28284817e+00   0.00000000e+00]\n",
      "[  1.71540562e-05  -8.92466351e-06   1.83570100e-01]\n",
      "[-0.00614601 -0.02028733  0.        ]\n"
     ]
    }
   ],
   "source": [
    "# the pose, velocity, and angular velocity of the quadcopter at the end of the episode\n",
    "print(task.sim.pose)\n",
    "print(task.sim.v)\n",
    "print(task.sim.angular_v)"
   ]
  },
  {
   "cell_type": "markdown",
   "metadata": {},
   "source": [
    "In the sample task in `task.py`, we use the 6-dimensional pose of the quadcopter to construct the state of the environment at each timestep.  However, when amending the task for your purposes, you are welcome to expand the size of the state vector by including the velocity information.  You can use any combination of the pose, velocity, and angular velocity - feel free to tinker here, and construct the state to suit your task.\n",
    "\n",
    "## The Task\n",
    "\n",
    "A sample task has been provided for you in `task.py`.  Open this file in a new window now. \n",
    "\n",
    "The `__init__()` method is used to initialize several variables that are needed to specify the task.  \n",
    "- The simulator is initialized as an instance of the `PhysicsSim` class (from `physics_sim.py`).  \n",
    "- Inspired by the methodology in the original DDPG paper, we make use of action repeats.  For each timestep of the agent, we step the simulation `action_repeats` timesteps.  If you are not familiar with action repeats, please read the **Results** section in [the DDPG paper](https://arxiv.org/abs/1509.02971).\n",
    "- We set the number of elements in the state vector.  For the sample task, we only work with the 6-dimensional pose information.  To set the size of the state (`state_size`), we must take action repeats into account.  \n",
    "- The environment will always have a 4-dimensional action space, with one entry for each rotor (`action_size=4`). You can set the minimum (`action_low`) and maximum (`action_high`) values of each entry here.\n",
    "- The sample task in this provided file is for the agent to reach a target position.  We specify that target position as a variable.\n",
    "\n",
    "The `reset()` method resets the simulator.  The agent should call this method every time the episode ends.  You can see an example of this in the code cell below.\n",
    "\n",
    "The `step()` method is perhaps the most important.  It accepts the agent's choice of action `rotor_speeds`, which is used to prepare the next state to pass on to the agent.  Then, the reward is computed from `get_reward()`.  The episode is considered done if the time limit has been exceeded, or the quadcopter has travelled outside of the bounds of the simulation.\n",
    "\n",
    "In the next section, you will learn how to test the performance of an agent on this task."
   ]
  },
  {
   "cell_type": "markdown",
   "metadata": {},
   "source": [
    "## The Agent\n",
    "\n",
    "The sample agent given in `agents/policy_search.py` uses a very simplistic linear policy to directly compute the action vector as a dot product of the state vector and a matrix of weights. Then, it randomly perturbs the parameters by adding some Gaussian noise, to produce a different policy. Based on the average reward obtained in each episode (`score`), it keeps track of the best set of parameters found so far, how the score is changing, and accordingly tweaks a scaling factor to widen or tighten the noise.\n",
    "\n",
    "Run the code cell below to see how the agent performs on the sample task."
   ]
  },
  {
   "cell_type": "code",
   "execution_count": 25,
   "metadata": {},
   "outputs": [
    {
     "name": "stdout",
     "output_type": "stream",
     "text": [
      "Episode = 1000, score =   2.997 (best =   2.998), noise_scale = 3.255"
     ]
    }
   ],
   "source": [
    "import sys\n",
    "import pandas as pd\n",
    "from agents.policy_search import PolicySearch_Agent\n",
    "from task import Task\n",
    "\n",
    "num_episodes = 1000\n",
    "target_pos = np.array([0., 0., 10.])\n",
    "task = Task(target_pos=target_pos)\n",
    "agent = PolicySearch_Agent(task) \n",
    "\n",
    "for i_episode in range(1, num_episodes+1):\n",
    "    state = agent.reset_episode() # start a new episode\n",
    "    while True:\n",
    "        action = agent.act(state) \n",
    "        next_state, reward, done = task.step(action)\n",
    "        agent.step(reward, done)\n",
    "        state = next_state\n",
    "        if done:\n",
    "            print(\"\\rEpisode = {:4d}, score = {:7.3f} (best = {:7.3f}), noise_scale = {}\".format(\n",
    "                i_episode, agent.score, agent.best_score, agent.noise_scale), end=\"\")  # [debug]\n",
    "            break\n",
    "    sys.stdout.flush()"
   ]
  },
  {
   "cell_type": "markdown",
   "metadata": {},
   "source": [
    "This agent should perform very poorly on this task.  And that's where you come in!"
   ]
  },
  {
   "cell_type": "markdown",
   "metadata": {
    "collapsed": true
   },
   "source": [
    "## Define the Task, Design the Agent, and Train Your Agent!\n",
    "\n",
    "Amend `task.py` to specify a task of your choosing.  If you're unsure what kind of task to specify, you may like to teach your quadcopter to takeoff, hover in place, land softly, or reach a target pose.  \n",
    "\n",
    "After specifying your task, use the sample agent in `agents/policy_search.py` as a template to define your own agent in `agents/agent.py`.  You can borrow whatever you need from the sample agent, including ideas on how you might modularize your code (using helper methods like `act()`, `learn()`, `reset_episode()`, etc.).\n",
    "\n",
    "Note that it is **highly unlikely** that the first agent and task that you specify will learn well.  You will likely have to tweak various hyperparameters and the reward function for your task until you arrive at reasonably good behavior.\n",
    "\n",
    "As you develop your agent, it's important to keep an eye on how it's performing. Use the code above as inspiration to build in a mechanism to log/save the total rewards obtained in each episode to file.  If the episode rewards are gradually increasing, this is an indication that your agent is learning."
   ]
  },
  {
   "cell_type": "code",
   "execution_count": 10,
   "metadata": {},
   "outputs": [
    {
     "name": "stderr",
     "output_type": "stream",
     "text": [
      "Using TensorFlow backend.\n"
     ]
    },
    {
     "name": "stdout",
     "output_type": "stream",
     "text": [
      "Episode =  300, score =  72.317, total_score = 1590.981Wall time: 2min 42s\n"
     ]
    }
   ],
   "source": [
    "%%time\n",
    "## TODO: Train your agent here.\n",
    "import sys\n",
    "import pandas as pd\n",
    "from agents.agent import DDPG\n",
    "from task import Task\n",
    "\n",
    "#num_episodes = 1000\n",
    "num_episodes = 300\n",
    "init_pose = np.array([0.,0.,0.,0.,0.,0.])\n",
    "target_pos = np.array([0., 0., 10.])\n",
    "task = Task(init_pose=init_pose, target_pos=target_pos)\n",
    "agent = DDPG(task) \n",
    "\n",
    "rewards = []\n",
    "total_rewards = []\n",
    "states = []\n",
    "\n",
    "for i_episode in range(1, num_episodes+1):\n",
    "    state = agent.reset_episode() # start a new episode\n",
    "    while True:\n",
    "        action = agent.act(state) \n",
    "        if i_episode == num_episodes:\n",
    "            states.append(np.concatenate([agent.task.sim.pose, agent.task.sim.v, \\\n",
    "                                          agent.task.sim.angular_v, agent.task.sim.linear_accel]))\n",
    "        next_state, reward, done = task.step(action)\n",
    "        agent.step(action, reward, next_state, done)\n",
    "        state = next_state\n",
    "        if done:\n",
    "            print(\"\\rEpisode = {:4d}, score = {:7.3f}, total_score = {:7.3f}\".format(\n",
    "                i_episode, agent.score, agent.total_reward), end=\"\")  # [debug]\n",
    "            rewards.append(agent.score)\n",
    "            total_rewards.append(agent.total_reward)\n",
    "            break\n",
    "    sys.stdout.flush()"
   ]
  },
  {
   "cell_type": "code",
   "execution_count": 11,
   "metadata": {},
   "outputs": [
    {
     "data": {
      "text/plain": [
       "(array([ -1.21880189e-01,   1.51431725e-06,   1.07156372e+01,\n",
       "          6.28318463e+00,   2.88442840e-02,   0.00000000e+00]),\n",
       " array([ -3.15644789e-01,  -7.05855165e-07,   1.39228012e+01]),\n",
       " array([ -7.30629186e-07,   1.22914828e-02,   0.00000000e+00]),\n",
       " array([ -4.28921502e-01,  -9.83992075e-06,   5.16223493e+00]))"
      ]
     },
     "execution_count": 11,
     "metadata": {},
     "output_type": "execute_result"
    }
   ],
   "source": [
    "agent.task.sim.pose, agent.task.sim.v, agent.task.sim.angular_v, agent.task.sim.linear_accel"
   ]
  },
  {
   "cell_type": "code",
   "execution_count": 12,
   "metadata": {},
   "outputs": [
    {
     "data": {
      "text/html": [
       "<div>\n",
       "<style>\n",
       "    .dataframe thead tr:only-child th {\n",
       "        text-align: right;\n",
       "    }\n",
       "\n",
       "    .dataframe thead th {\n",
       "        text-align: left;\n",
       "    }\n",
       "\n",
       "    .dataframe tbody tr th {\n",
       "        vertical-align: top;\n",
       "    }\n",
       "</style>\n",
       "<table border=\"1\" class=\"dataframe\">\n",
       "  <thead>\n",
       "    <tr style=\"text-align: right;\">\n",
       "      <th></th>\n",
       "      <th>0</th>\n",
       "      <th>1</th>\n",
       "      <th>2</th>\n",
       "      <th>3</th>\n",
       "      <th>4</th>\n",
       "      <th>5</th>\n",
       "      <th>6</th>\n",
       "      <th>7</th>\n",
       "      <th>8</th>\n",
       "      <th>9</th>\n",
       "      <th>10</th>\n",
       "      <th>11</th>\n",
       "      <th>12</th>\n",
       "      <th>13</th>\n",
       "      <th>14</th>\n",
       "    </tr>\n",
       "  </thead>\n",
       "  <tbody>\n",
       "    <tr>\n",
       "      <th>0</th>\n",
       "      <td>0.000000e+00</td>\n",
       "      <td>0.000000e+00</td>\n",
       "      <td>0.000000</td>\n",
       "      <td>0.000000e+00</td>\n",
       "      <td>0.000000</td>\n",
       "      <td>0.0</td>\n",
       "      <td>0.000000</td>\n",
       "      <td>0.000000e+00</td>\n",
       "      <td>0.000000</td>\n",
       "      <td>0.000000e+00</td>\n",
       "      <td>0.000000</td>\n",
       "      <td>0.0</td>\n",
       "      <td>0.000000</td>\n",
       "      <td>0.000000e+00</td>\n",
       "      <td>0.000000</td>\n",
       "    </tr>\n",
       "    <tr>\n",
       "      <th>1</th>\n",
       "      <td>1.017417e-07</td>\n",
       "      <td>5.087145e-12</td>\n",
       "      <td>0.026174</td>\n",
       "      <td>3.135407e-09</td>\n",
       "      <td>6.283113</td>\n",
       "      <td>0.0</td>\n",
       "      <td>0.000011</td>\n",
       "      <td>5.087128e-10</td>\n",
       "      <td>0.872231</td>\n",
       "      <td>1.567701e-07</td>\n",
       "      <td>-0.003709</td>\n",
       "      <td>0.0</td>\n",
       "      <td>0.000565</td>\n",
       "      <td>2.543559e-08</td>\n",
       "      <td>14.527084</td>\n",
       "    </tr>\n",
       "    <tr>\n",
       "      <th>2</th>\n",
       "      <td>5.601302e-06</td>\n",
       "      <td>2.682740e-10</td>\n",
       "      <td>0.104588</td>\n",
       "      <td>2.455682e-08</td>\n",
       "      <td>6.282948</td>\n",
       "      <td>0.0</td>\n",
       "      <td>0.000214</td>\n",
       "      <td>1.158386e-08</td>\n",
       "      <td>1.740684</td>\n",
       "      <td>7.575275e-07</td>\n",
       "      <td>-0.000927</td>\n",
       "      <td>0.0</td>\n",
       "      <td>0.004871</td>\n",
       "      <td>3.252169e-07</td>\n",
       "      <td>14.439469</td>\n",
       "    </tr>\n",
       "    <tr>\n",
       "      <th>3</th>\n",
       "      <td>2.904500e-05</td>\n",
       "      <td>2.412696e-09</td>\n",
       "      <td>0.234890</td>\n",
       "      <td>7.943262e-08</td>\n",
       "      <td>6.282991</td>\n",
       "      <td>0.0</td>\n",
       "      <td>0.000568</td>\n",
       "      <td>7.060221e-08</td>\n",
       "      <td>2.601171</td>\n",
       "      <td>1.228733e-06</td>\n",
       "      <td>0.003818</td>\n",
       "      <td>0.0</td>\n",
       "      <td>0.005794</td>\n",
       "      <td>1.397361e-06</td>\n",
       "      <td>14.282722</td>\n",
       "    </tr>\n",
       "    <tr>\n",
       "      <th>4</th>\n",
       "      <td>6.915599e-05</td>\n",
       "      <td>1.066660e-08</td>\n",
       "      <td>0.416447</td>\n",
       "      <td>1.551948e-07</td>\n",
       "      <td>0.000285</td>\n",
       "      <td>0.0</td>\n",
       "      <td>0.000691</td>\n",
       "      <td>2.202050e-07</td>\n",
       "      <td>3.448601</td>\n",
       "      <td>1.330645e-06</td>\n",
       "      <td>0.015231</td>\n",
       "      <td>0.0</td>\n",
       "      <td>-0.001164</td>\n",
       "      <td>3.083179e-06</td>\n",
       "      <td>14.042287</td>\n",
       "    </tr>\n",
       "    <tr>\n",
       "      <th>5</th>\n",
       "      <td>9.107883e-05</td>\n",
       "      <td>3.112871e-08</td>\n",
       "      <td>0.648383</td>\n",
       "      <td>2.336256e-07</td>\n",
       "      <td>0.001313</td>\n",
       "      <td>0.0</td>\n",
       "      <td>-0.000164</td>\n",
       "      <td>4.780179e-07</td>\n",
       "      <td>4.279866</td>\n",
       "      <td>1.260246e-06</td>\n",
       "      <td>0.020704</td>\n",
       "      <td>0.0</td>\n",
       "      <td>-0.021997</td>\n",
       "      <td>4.899649e-06</td>\n",
       "      <td>13.751522</td>\n",
       "    </tr>\n",
       "    <tr>\n",
       "      <th>6</th>\n",
       "      <td>1.616258e-05</td>\n",
       "      <td>7.019107e-08</td>\n",
       "      <td>0.929605</td>\n",
       "      <td>2.843906e-07</td>\n",
       "      <td>0.002666</td>\n",
       "      <td>0.0</td>\n",
       "      <td>-0.002598</td>\n",
       "      <td>8.363400e-07</td>\n",
       "      <td>5.090980</td>\n",
       "      <td>1.774550e-08</td>\n",
       "      <td>0.026035</td>\n",
       "      <td>0.0</td>\n",
       "      <td>-0.050585</td>\n",
       "      <td>6.399182e-06</td>\n",
       "      <td>13.396275</td>\n",
       "    </tr>\n",
       "    <tr>\n",
       "      <th>7</th>\n",
       "      <td>-2.622657e-04</td>\n",
       "      <td>1.321431e-07</td>\n",
       "      <td>1.258814</td>\n",
       "      <td>2.771474e-07</td>\n",
       "      <td>0.004358</td>\n",
       "      <td>0.0</td>\n",
       "      <td>-0.007004</td>\n",
       "      <td>1.227051e-06</td>\n",
       "      <td>5.878964</td>\n",
       "      <td>-3.976499e-07</td>\n",
       "      <td>0.032182</td>\n",
       "      <td>0.0</td>\n",
       "      <td>-0.085588</td>\n",
       "      <td>6.438137e-06</td>\n",
       "      <td>12.993498</td>\n",
       "    </tr>\n",
       "    <tr>\n",
       "      <th>8</th>\n",
       "      <td>-8.740333e-04</td>\n",
       "      <td>2.168268e-07</td>\n",
       "      <td>1.634505</td>\n",
       "      <td>2.424116e-07</td>\n",
       "      <td>0.006352</td>\n",
       "      <td>0.0</td>\n",
       "      <td>-0.013760</td>\n",
       "      <td>1.588785e-06</td>\n",
       "      <td>6.639966</td>\n",
       "      <td>-9.414928e-07</td>\n",
       "      <td>0.035271</td>\n",
       "      <td>0.0</td>\n",
       "      <td>-0.126604</td>\n",
       "      <td>5.754915e-06</td>\n",
       "      <td>12.529131</td>\n",
       "    </tr>\n",
       "    <tr>\n",
       "      <th>9</th>\n",
       "      <td>-1.967881e-03</td>\n",
       "      <td>3.213780e-07</td>\n",
       "      <td>2.055001</td>\n",
       "      <td>1.859221e-07</td>\n",
       "      <td>0.008566</td>\n",
       "      <td>0.0</td>\n",
       "      <td>-0.023094</td>\n",
       "      <td>1.884212e-06</td>\n",
       "      <td>7.372141</td>\n",
       "      <td>-9.414910e-07</td>\n",
       "      <td>0.039960</td>\n",
       "      <td>0.0</td>\n",
       "      <td>-0.170360</td>\n",
       "      <td>4.473099e-06</td>\n",
       "      <td>12.036433</td>\n",
       "    </tr>\n",
       "    <tr>\n",
       "      <th>10</th>\n",
       "      <td>-3.703594e-03</td>\n",
       "      <td>4.412486e-07</td>\n",
       "      <td>2.518513</td>\n",
       "      <td>1.294321e-07</td>\n",
       "      <td>0.011059</td>\n",
       "      <td>0.0</td>\n",
       "      <td>-0.035187</td>\n",
       "      <td>2.099898e-06</td>\n",
       "      <td>8.073574</td>\n",
       "      <td>-9.415162e-07</td>\n",
       "      <td>0.044581</td>\n",
       "      <td>0.0</td>\n",
       "      <td>-0.217514</td>\n",
       "      <td>3.161602e-06</td>\n",
       "      <td>11.514381</td>\n",
       "    </tr>\n",
       "    <tr>\n",
       "      <th>11</th>\n",
       "      <td>-6.252370e-03</td>\n",
       "      <td>5.717510e-07</td>\n",
       "      <td>3.023141</td>\n",
       "      <td>7.294117e-08</td>\n",
       "      <td>0.013687</td>\n",
       "      <td>0.0</td>\n",
       "      <td>-0.050208</td>\n",
       "      <td>2.239118e-06</td>\n",
       "      <td>8.742473</td>\n",
       "      <td>-9.415162e-07</td>\n",
       "      <td>0.042169</td>\n",
       "      <td>0.0</td>\n",
       "      <td>-0.266594</td>\n",
       "      <td>1.906562e-06</td>\n",
       "      <td>10.965104</td>\n",
       "    </tr>\n",
       "    <tr>\n",
       "      <th>12</th>\n",
       "      <td>-9.786974e-03</td>\n",
       "      <td>7.084054e-07</td>\n",
       "      <td>3.566912</td>\n",
       "      <td>1.645020e-08</td>\n",
       "      <td>0.016150</td>\n",
       "      <td>0.0</td>\n",
       "      <td>-0.067993</td>\n",
       "      <td>2.305511e-06</td>\n",
       "      <td>9.378250</td>\n",
       "      <td>-9.415162e-07</td>\n",
       "      <td>0.038731</td>\n",
       "      <td>0.0</td>\n",
       "      <td>-0.310560</td>\n",
       "      <td>7.133143e-07</td>\n",
       "      <td>10.408361</td>\n",
       "    </tr>\n",
       "    <tr>\n",
       "      <th>13</th>\n",
       "      <td>-1.446146e-02</td>\n",
       "      <td>8.469539e-07</td>\n",
       "      <td>4.147820</td>\n",
       "      <td>6.283185e+00</td>\n",
       "      <td>0.018419</td>\n",
       "      <td>0.0</td>\n",
       "      <td>-0.088143</td>\n",
       "      <td>2.302816e-06</td>\n",
       "      <td>9.980255</td>\n",
       "      <td>-9.433405e-07</td>\n",
       "      <td>0.035901</td>\n",
       "      <td>0.0</td>\n",
       "      <td>-0.347723</td>\n",
       "      <td>-4.170896e-07</td>\n",
       "      <td>9.843072</td>\n",
       "    </tr>\n",
       "    <tr>\n",
       "      <th>14</th>\n",
       "      <td>-2.040602e-02</td>\n",
       "      <td>9.833639e-07</td>\n",
       "      <td>4.763823</td>\n",
       "      <td>6.283185e+00</td>\n",
       "      <td>0.020468</td>\n",
       "      <td>0.0</td>\n",
       "      <td>-0.110273</td>\n",
       "      <td>2.234772e-06</td>\n",
       "      <td>10.548108</td>\n",
       "      <td>-9.518021e-07</td>\n",
       "      <td>0.030420</td>\n",
       "      <td>0.0</td>\n",
       "      <td>-0.378558</td>\n",
       "      <td>-1.485989e-06</td>\n",
       "      <td>9.273614</td>\n",
       "    </tr>\n",
       "    <tr>\n",
       "      <th>15</th>\n",
       "      <td>-2.772648e-02</td>\n",
       "      <td>1.113812e-06</td>\n",
       "      <td>5.412873</td>\n",
       "      <td>6.283185e+00</td>\n",
       "      <td>0.022237</td>\n",
       "      <td>0.0</td>\n",
       "      <td>-0.133936</td>\n",
       "      <td>2.104068e-06</td>\n",
       "      <td>11.081831</td>\n",
       "      <td>-1.271860e-06</td>\n",
       "      <td>0.027501</td>\n",
       "      <td>0.0</td>\n",
       "      <td>-0.401527</td>\n",
       "      <td>-2.537730e-06</td>\n",
       "      <td>8.706447</td>\n",
       "    </tr>\n",
       "    <tr>\n",
       "      <th>16</th>\n",
       "      <td>-3.650249e-02</td>\n",
       "      <td>1.234337e-06</td>\n",
       "      <td>6.092924</td>\n",
       "      <td>6.283185e+00</td>\n",
       "      <td>0.023819</td>\n",
       "      <td>0.0</td>\n",
       "      <td>-0.158746</td>\n",
       "      <td>1.902044e-06</td>\n",
       "      <td>11.581607</td>\n",
       "      <td>-1.271859e-06</td>\n",
       "      <td>0.024026</td>\n",
       "      <td>0.0</td>\n",
       "      <td>-0.418974</td>\n",
       "      <td>-3.792447e-06</td>\n",
       "      <td>8.144062</td>\n",
       "    </tr>\n",
       "    <tr>\n",
       "      <th>17</th>\n",
       "      <td>-4.679377e-02</td>\n",
       "      <td>1.340489e-06</td>\n",
       "      <td>6.801961</td>\n",
       "      <td>6.283185e+00</td>\n",
       "      <td>0.025223</td>\n",
       "      <td>0.0</td>\n",
       "      <td>-0.184402</td>\n",
       "      <td>1.625674e-06</td>\n",
       "      <td>12.048134</td>\n",
       "      <td>-1.271859e-06</td>\n",
       "      <td>0.022086</td>\n",
       "      <td>0.0</td>\n",
       "      <td>-0.431481</td>\n",
       "      <td>-5.004592e-06</td>\n",
       "      <td>7.594724</td>\n",
       "    </tr>\n",
       "    <tr>\n",
       "      <th>18</th>\n",
       "      <td>-5.864358e-02</td>\n",
       "      <td>1.427949e-06</td>\n",
       "      <td>7.538019</td>\n",
       "      <td>6.283185e+00</td>\n",
       "      <td>0.026442</td>\n",
       "      <td>0.0</td>\n",
       "      <td>-0.210666</td>\n",
       "      <td>1.279677e-06</td>\n",
       "      <td>12.482460</td>\n",
       "      <td>-1.271859e-06</td>\n",
       "      <td>0.016541</td>\n",
       "      <td>0.0</td>\n",
       "      <td>-0.440368</td>\n",
       "      <td>-6.139646e-06</td>\n",
       "      <td>7.063941</td>\n",
       "    </tr>\n",
       "    <tr>\n",
       "      <th>19</th>\n",
       "      <td>-7.207991e-02</td>\n",
       "      <td>1.492676e-06</td>\n",
       "      <td>8.299197</td>\n",
       "      <td>6.283185e+00</td>\n",
       "      <td>0.027292</td>\n",
       "      <td>0.0</td>\n",
       "      <td>-0.237228</td>\n",
       "      <td>8.685902e-07</td>\n",
       "      <td>12.885642</td>\n",
       "      <td>-1.243611e-06</td>\n",
       "      <td>0.008942</td>\n",
       "      <td>0.0</td>\n",
       "      <td>-0.443154</td>\n",
       "      <td>-7.198805e-06</td>\n",
       "      <td>6.551776</td>\n",
       "    </tr>\n",
       "    <tr>\n",
       "      <th>20</th>\n",
       "      <td>-8.710848e-02</td>\n",
       "      <td>1.530910e-06</td>\n",
       "      <td>9.083673</td>\n",
       "      <td>6.283185e+00</td>\n",
       "      <td>0.027812</td>\n",
       "      <td>0.0</td>\n",
       "      <td>-0.263681</td>\n",
       "      <td>3.973539e-07</td>\n",
       "      <td>13.259253</td>\n",
       "      <td>-1.243611e-06</td>\n",
       "      <td>0.008092</td>\n",
       "      <td>0.0</td>\n",
       "      <td>-0.439264</td>\n",
       "      <td>-8.172877e-06</td>\n",
       "      <td>6.066385</td>\n",
       "    </tr>\n",
       "    <tr>\n",
       "      <th>21</th>\n",
       "      <td>-1.037150e-01</td>\n",
       "      <td>1.539184e-06</td>\n",
       "      <td>9.889705</td>\n",
       "      <td>6.283185e+00</td>\n",
       "      <td>0.028289</td>\n",
       "      <td>0.0</td>\n",
       "      <td>-0.289821</td>\n",
       "      <td>-1.294984e-07</td>\n",
       "      <td>13.604417</td>\n",
       "      <td>-1.180156e-06</td>\n",
       "      <td>0.007659</td>\n",
       "      <td>0.0</td>\n",
       "      <td>-0.433863</td>\n",
       "      <td>-9.076303e-06</td>\n",
       "      <td>5.600318</td>\n",
       "    </tr>\n",
       "  </tbody>\n",
       "</table>\n",
       "</div>"
      ],
      "text/plain": [
       "              0             1         2             3         4    5   \\\n",
       "0   0.000000e+00  0.000000e+00  0.000000  0.000000e+00  0.000000  0.0   \n",
       "1   1.017417e-07  5.087145e-12  0.026174  3.135407e-09  6.283113  0.0   \n",
       "2   5.601302e-06  2.682740e-10  0.104588  2.455682e-08  6.282948  0.0   \n",
       "3   2.904500e-05  2.412696e-09  0.234890  7.943262e-08  6.282991  0.0   \n",
       "4   6.915599e-05  1.066660e-08  0.416447  1.551948e-07  0.000285  0.0   \n",
       "5   9.107883e-05  3.112871e-08  0.648383  2.336256e-07  0.001313  0.0   \n",
       "6   1.616258e-05  7.019107e-08  0.929605  2.843906e-07  0.002666  0.0   \n",
       "7  -2.622657e-04  1.321431e-07  1.258814  2.771474e-07  0.004358  0.0   \n",
       "8  -8.740333e-04  2.168268e-07  1.634505  2.424116e-07  0.006352  0.0   \n",
       "9  -1.967881e-03  3.213780e-07  2.055001  1.859221e-07  0.008566  0.0   \n",
       "10 -3.703594e-03  4.412486e-07  2.518513  1.294321e-07  0.011059  0.0   \n",
       "11 -6.252370e-03  5.717510e-07  3.023141  7.294117e-08  0.013687  0.0   \n",
       "12 -9.786974e-03  7.084054e-07  3.566912  1.645020e-08  0.016150  0.0   \n",
       "13 -1.446146e-02  8.469539e-07  4.147820  6.283185e+00  0.018419  0.0   \n",
       "14 -2.040602e-02  9.833639e-07  4.763823  6.283185e+00  0.020468  0.0   \n",
       "15 -2.772648e-02  1.113812e-06  5.412873  6.283185e+00  0.022237  0.0   \n",
       "16 -3.650249e-02  1.234337e-06  6.092924  6.283185e+00  0.023819  0.0   \n",
       "17 -4.679377e-02  1.340489e-06  6.801961  6.283185e+00  0.025223  0.0   \n",
       "18 -5.864358e-02  1.427949e-06  7.538019  6.283185e+00  0.026442  0.0   \n",
       "19 -7.207991e-02  1.492676e-06  8.299197  6.283185e+00  0.027292  0.0   \n",
       "20 -8.710848e-02  1.530910e-06  9.083673  6.283185e+00  0.027812  0.0   \n",
       "21 -1.037150e-01  1.539184e-06  9.889705  6.283185e+00  0.028289  0.0   \n",
       "\n",
       "          6             7          8             9         10   11        12  \\\n",
       "0   0.000000  0.000000e+00   0.000000  0.000000e+00  0.000000  0.0  0.000000   \n",
       "1   0.000011  5.087128e-10   0.872231  1.567701e-07 -0.003709  0.0  0.000565   \n",
       "2   0.000214  1.158386e-08   1.740684  7.575275e-07 -0.000927  0.0  0.004871   \n",
       "3   0.000568  7.060221e-08   2.601171  1.228733e-06  0.003818  0.0  0.005794   \n",
       "4   0.000691  2.202050e-07   3.448601  1.330645e-06  0.015231  0.0 -0.001164   \n",
       "5  -0.000164  4.780179e-07   4.279866  1.260246e-06  0.020704  0.0 -0.021997   \n",
       "6  -0.002598  8.363400e-07   5.090980  1.774550e-08  0.026035  0.0 -0.050585   \n",
       "7  -0.007004  1.227051e-06   5.878964 -3.976499e-07  0.032182  0.0 -0.085588   \n",
       "8  -0.013760  1.588785e-06   6.639966 -9.414928e-07  0.035271  0.0 -0.126604   \n",
       "9  -0.023094  1.884212e-06   7.372141 -9.414910e-07  0.039960  0.0 -0.170360   \n",
       "10 -0.035187  2.099898e-06   8.073574 -9.415162e-07  0.044581  0.0 -0.217514   \n",
       "11 -0.050208  2.239118e-06   8.742473 -9.415162e-07  0.042169  0.0 -0.266594   \n",
       "12 -0.067993  2.305511e-06   9.378250 -9.415162e-07  0.038731  0.0 -0.310560   \n",
       "13 -0.088143  2.302816e-06   9.980255 -9.433405e-07  0.035901  0.0 -0.347723   \n",
       "14 -0.110273  2.234772e-06  10.548108 -9.518021e-07  0.030420  0.0 -0.378558   \n",
       "15 -0.133936  2.104068e-06  11.081831 -1.271860e-06  0.027501  0.0 -0.401527   \n",
       "16 -0.158746  1.902044e-06  11.581607 -1.271859e-06  0.024026  0.0 -0.418974   \n",
       "17 -0.184402  1.625674e-06  12.048134 -1.271859e-06  0.022086  0.0 -0.431481   \n",
       "18 -0.210666  1.279677e-06  12.482460 -1.271859e-06  0.016541  0.0 -0.440368   \n",
       "19 -0.237228  8.685902e-07  12.885642 -1.243611e-06  0.008942  0.0 -0.443154   \n",
       "20 -0.263681  3.973539e-07  13.259253 -1.243611e-06  0.008092  0.0 -0.439264   \n",
       "21 -0.289821 -1.294984e-07  13.604417 -1.180156e-06  0.007659  0.0 -0.433863   \n",
       "\n",
       "              13         14  \n",
       "0   0.000000e+00   0.000000  \n",
       "1   2.543559e-08  14.527084  \n",
       "2   3.252169e-07  14.439469  \n",
       "3   1.397361e-06  14.282722  \n",
       "4   3.083179e-06  14.042287  \n",
       "5   4.899649e-06  13.751522  \n",
       "6   6.399182e-06  13.396275  \n",
       "7   6.438137e-06  12.993498  \n",
       "8   5.754915e-06  12.529131  \n",
       "9   4.473099e-06  12.036433  \n",
       "10  3.161602e-06  11.514381  \n",
       "11  1.906562e-06  10.965104  \n",
       "12  7.133143e-07  10.408361  \n",
       "13 -4.170896e-07   9.843072  \n",
       "14 -1.485989e-06   9.273614  \n",
       "15 -2.537730e-06   8.706447  \n",
       "16 -3.792447e-06   8.144062  \n",
       "17 -5.004592e-06   7.594724  \n",
       "18 -6.139646e-06   7.063941  \n",
       "19 -7.198805e-06   6.551776  \n",
       "20 -8.172877e-06   6.066385  \n",
       "21 -9.076303e-06   5.600318  "
      ]
     },
     "execution_count": 12,
     "metadata": {},
     "output_type": "execute_result"
    }
   ],
   "source": [
    "pd.DataFrame(states)"
   ]
  },
  {
   "cell_type": "code",
   "execution_count": 13,
   "metadata": {
    "collapsed": true
   },
   "outputs": [],
   "source": [
    "last_episode = pd.DataFrame(states,columns = ['x','y','z','phi','theta','psi','v_x','v_y','v_z','w_phi','w_th','w_psi','a_x','a_y','a_z'])"
   ]
  },
  {
   "cell_type": "code",
   "execution_count": 14,
   "metadata": {},
   "outputs": [
    {
     "data": {
      "text/plain": [
       "<matplotlib.legend.Legend at 0x239f3114e10>"
      ]
     },
     "execution_count": 14,
     "metadata": {},
     "output_type": "execute_result"
    },
    {
     "data": {
      "image/png": "[encoded data removed]",
      "text/plain": [
       "<matplotlib.figure.Figure at 0x239f3039128>"
      ]
     },
     "metadata": {},
     "output_type": "display_data"
    }
   ],
   "source": [
    "# Plot spatial coordinates changes for the last episode\n",
    "# This plot shows that the agent gains altitude without moving in horizontal directions\n",
    "plt.plot(last_episode['x'])\n",
    "plt.plot(last_episode['y'])\n",
    "plt.plot(last_episode['z'])\n",
    "plt.legend()"
   ]
  },
  {
   "cell_type": "code",
   "execution_count": 15,
   "metadata": {},
   "outputs": [
    {
     "data": {
      "text/plain": [
       "<matplotlib.legend.Legend at 0x239f53bcf98>"
      ]
     },
     "execution_count": 15,
     "metadata": {},
     "output_type": "execute_result"
    },
    {
     "data": {
      "image/png": "[encoded data removed]",
      "text/plain": [
       "<matplotlib.figure.Figure at 0x239f320c5f8>"
      ]
     },
     "metadata": {},
     "output_type": "display_data"
    }
   ],
   "source": [
    "# Plot Euler angles changes for the last episode\n",
    "# This plot shows that the agent doesn't spin around during the task (angles 0 and 6.28, i.e. 2pi, are equivalent)\n",
    "plt.plot(last_episode['phi'])\n",
    "plt.plot(last_episode['theta'])\n",
    "plt.plot(last_episode['psi'])\n",
    "plt.legend()"
   ]
  },
  {
   "cell_type": "code",
   "execution_count": 16,
   "metadata": {},
   "outputs": [
    {
     "data": {
      "text/plain": [
       "<matplotlib.legend.Legend at 0x239f2acae10>"
      ]
     },
     "execution_count": 16,
     "metadata": {},
     "output_type": "execute_result"
    },
    {
     "data": {
      "image/png": "[encoded data removed]",
      "text/plain": [
       "<matplotlib.figure.Figure at 0x239f53ab780>"
      ]
     },
     "metadata": {},
     "output_type": "display_data"
    }
   ],
   "source": [
    "# Plot velocity changes for the last episode\n",
    "# This plot shows that the agent increases vertical velocity and keeps horizontal velocity close to 0\n",
    "plt.plot(last_episode['v_x'])\n",
    "plt.plot(last_episode['v_y'])\n",
    "plt.plot(last_episode['v_z'])\n",
    "plt.legend()"
   ]
  },
  {
   "cell_type": "code",
   "execution_count": 17,
   "metadata": {},
   "outputs": [
    {
     "data": {
      "text/plain": [
       "<matplotlib.legend.Legend at 0x239f543ba90>"
      ]
     },
     "execution_count": 17,
     "metadata": {},
     "output_type": "execute_result"
    },
    {
     "data": {
      "image/png": "[encoded data removed]",
      "text/plain": [
       "<matplotlib.figure.Figure at 0x239f2a776d8>"
      ]
     },
     "metadata": {},
     "output_type": "display_data"
    }
   ],
   "source": [
    "# Plot angular velocities changes for the last episode\n",
    "# This plot shows that the agent doesn't spin around during the task as all of its angular velocities are close to 0\n",
    "plt.plot(last_episode['w_phi'])\n",
    "plt.plot(last_episode['w_th'])\n",
    "plt.plot(last_episode['w_psi'])\n",
    "plt.legend()"
   ]
  },
  {
   "cell_type": "markdown",
   "metadata": {
    "collapsed": true
   },
   "source": [
    "## Plot the Rewards\n",
    "\n",
    "Once you are satisfied with your performance, plot the episode rewards, either from a single run, or averaged over multiple runs. "
   ]
  },
  {
   "cell_type": "code",
   "execution_count": 22,
   "metadata": {},
   "outputs": [
    {
     "data": {
      "image/png": "[encoded data removed]",
      "text/plain": [
       "<matplotlib.figure.Figure at 0x239f55994e0>"
      ]
     },
     "metadata": {},
     "output_type": "display_data"
    }
   ],
   "source": [
    "plt.plot(rewards);"
   ]
  },
  {
   "cell_type": "markdown",
   "metadata": {
    "collapsed": true
   },
   "source": [
    "## Reflections\n",
    "\n",
    "**Question 1**: Describe the task that you specified in `task.py`.  How did you design the reward function?\n",
    "\n",
    "**Answer**:\n",
    "- The task is to take off a quadrocopter and fly it to the height of 10 meters. The reward function has four components: a term for each timestep, which decays as time goes, rewards for altitude, vertical speed and vertical angle (Euler's theta angle). Altitude and vertical speed contribute to reward function the most. Vertical angle term is designed in such a way that it has maximum positive values around 0 and $2\\pi$. The whole idea of this reward function is to reward the agent for high altitude and high vertical upgoing speed, with some reward for trying to take off in the beginning of the episode (i.e. not falling down early) and encouraging the quadrocopter not to spin around horizontal axes. Here is how it is implemented in code:\n",
    "\n",
    "```python\n",
    "time_term = 1 / (1 + 10 * self.sim.time)\n",
    "height_term = np.sqrt(self.sim.pose[2] / self.target_pos[2])\n",
    "vertical_vel_term = 0.2*self.sim.v[2]\n",
    "vertical_angle_term = np.cos(self.sim.pose[4])*(np.cos(self.sim.pose[4]) + 1) - 1\n",
    "\n",
    "reward = 1 * time_term + 10 * height_term + 10 * vertical_vel_term + 2 * vertical_angle_term\n",
    "```"
   ]
  },
  {
   "cell_type": "markdown",
   "metadata": {},
   "source": [
    "**Question 2**: Discuss your agent briefly, using the following questions as a guide:\n",
    "\n",
    "- What learning algorithm(s) did you try? What worked best for you?\n",
    "- What was your final choice of hyperparameters (such as $\\alpha$, $\\gamma$, $\\epsilon$, etc.)?\n",
    "- What neural network architecture did you use (if any)? Specify layers, sizes, activation functions, etc.\n",
    "\n",
    "**Answer**:\n",
    "- For this task I used a Deep Deterministic Policy Gradients algorithm that was referred in this course and proposed to be used in this project. It is and Actor-Critic method, which works with continuous environment, such as our task, and uses determenistic policies with added random noise to provide stochasticity in picking of an action. It works good as long as the reward function is designed suitably.\n",
    "- I fixed on using the default learning rate for adam optimizer. The value of $\\gamma$ was chosen to be 0.99. The $\\tau$ hyperparameter for soft updating the target parameters was chosen to be 0.01.\n",
    "- Neural network architectures are the following:\n",
    "    - For an actor model I used a network which takes states as an input and outputs actions. I used quadrocopter position, Euler angles, velocity and angular velocities to define states. The number of actions is 4 for each of the propellers. In this network there are also 3 hidden fully connected layers with ReLU activations and a batch normalization layer for an input layer. Final output layer has a sigmoid function as an activation and these activations are then rescaled to match action ranges of the environment.\n",
    "    - For a critic model I used a network with two parallel flows. First flow takes states as the input, second one takes actions as the input. Then each of these flows has two dense layers with ReLU activations. Further the two flows are concatenated into one layer with ReLU activation which is then connected to a final single unit layer which outputs an action value (Q-values). Also both of the input layers of the critic model have batch normalizations applied to them. Both networks use Adam as an optimizer."
   ]
  },
  {
   "cell_type": "code",
   "execution_count": 20,
   "metadata": {},
   "outputs": [
    {
     "data": {
      "text/plain": [
       "72.318681114386806"
      ]
     },
     "execution_count": 20,
     "metadata": {},
     "output_type": "execute_result"
    }
   ],
   "source": [
    "np.mean(rewards[-10:-1])"
   ]
  },
  {
   "cell_type": "markdown",
   "metadata": {},
   "source": [
    "**Question 3**: Using the episode rewards plot, discuss how the agent learned over time.\n",
    "\n",
    "- Was it an easy task to learn or hard?\n",
    "- Was there a gradual learning curve, or an aha moment?\n",
    "- How good was the final performance of the agent? (e.g. mean rewards over the last 10 episodes)\n",
    "\n",
    "**Answer**:\n",
    "- The task was pretty easy to learn. In the rewards plot we can see that it took about 50 episodes to reach a plateau. Interestengly, the curve actually varied between learning launches. In some cases a plateau was reached fast, sometimes even after 500 episodes the algorithm struggled to learn the task. But most of the time with my final reward function specified the task is relatively easy to learn.\n",
    "- Most of the runs, including the one that one can in the reward plot, show that there is a moment when agent's performance suddenly increases. When I implemented and trained this agent I have never observed a gradual learning curve.\n",
    "- The final performance of the agent was 72.3"
   ]
  },
  {
   "cell_type": "markdown",
   "metadata": {},
   "source": [
    "**Question 4**: Briefly summarize your experience working on this project. You can use the following prompts for ideas.\n",
    "\n",
    "- What was the hardest part of the project? (e.g. getting started, plotting, specifying the task, etc.)\n",
    "- Did you find anything interesting in how the quadcopter or your agent behaved?\n",
    "\n",
    "**Answer**:\n",
    "- The hardest part of the project was to design an efficient reward function for the chosen task. I have tried a lot of options, different combinations of term that can be included into the reward function with different weights before I found the terms that are actually useful for the task and discarding the terms that do not contribute to the agent's performance and only overcomplicate the model and make the agent struggle to learn the task (e.g. I experimented with including terms for horizontal and angular velocities but they did not turn out to be useful for this task).\n",
    "- What I found interesting about the agent's behaviour is that during unsuccessful runs the agent struggles to gain any height and basically falls down after a few seconds. In some cases it gets up a couple of meters and then eventually falls down spinning. But when the agent actually starts to succeed in learning the task it behaves almost perfectly as the plots show."
   ]
  }
 ],
 "metadata": {
  "anaconda-cloud": {},
  "kernelspec": {
   "display_name": "Python 3",
   "language": "python",
   "name": "python3"
  },
  "language_info": {
   "codemirror_mode": {
    "name": "ipython",
    "version": 3
   },
   "file_extension": ".py",
   "mimetype": "text/x-python",
   "name": "python",
   "nbconvert_exporter": "python",
   "pygments_lexer": "ipython3",
   "version": "3.6.2"
  }
 },
 "nbformat": 4,
 "nbformat_minor": 2
}
